{
  "nbformat": 4,
  "nbformat_minor": 0,
  "metadata": {
    "colab": {
      "name": "LSTM-1.ipynb",
      "version": "0.3.2",
      "provenance": [],
      "collapsed_sections": []
    },
    "kernelspec": {
      "display_name": "Python 2",
      "language": "python",
      "name": "python2"
    }
  },
  "cells": [
    {
      "metadata": {
        "id": "oG5nHeBGgMFa",
        "colab_type": "raw"
      },
      "cell_type": "markdown",
      "source": [
        "\n",
        "## Preparing data\n"
      ]
    },
    {
      "metadata": {
        "id": "Rz6Py215gMFc",
        "colab_type": "code",
        "outputId": "2591807d-19a5-45a5-ad41-badb01527a71",
        "colab": {
          "base_uri": "https://localhost:8080/",
          "height": 374
        }
      },
      "cell_type": "code",
      "source": [
        "from sklearn.model_selection import train_test_split\n",
        "import numpy as np\n",
        "from keras.layers import Dense, Embedding, LSTM\n",
        "from keras.models import Sequential\n",
        "from keras.preprocessing import sequence\n",
        "from keras.datasets import imdb\n",
        "from scipy.io import arff\n",
        "import pandas as pd\n",
        "\n",
        "from google.colab import drive\n",
        "drive.mount('/content/drive')\n",
        "\n",
        "from scipy.io import arff\n",
        "import pandas as pd\n",
        "\n",
        "## Loading the dataset\n",
        "dataset = arff.loadarff('/content/drive/My Drive/EEG_Eye_State.arff')\n",
        "EEGData = pd.DataFrame(dataset[0])\n",
        "\n",
        "# preprocesss data | remove empty values\n",
        "EEGData = EEGData.replace('[?]', np.nan, regex=True)\n",
        "EEGData = EEGData.dropna()\n",
        "data_arr = np.array(EEGData)\n",
        "# veryfy columns\n",
        "EEGData.info()"
      ],
      "execution_count": 14,
      "outputs": [
        {
          "output_type": "stream",
          "text": [
            "Drive already mounted at /content/drive; to attempt to forcibly remount, call drive.mount(\"/content/drive\", force_remount=True).\n",
            "<class 'pandas.core.frame.DataFrame'>\n",
            "Int64Index: 14980 entries, 0 to 14979\n",
            "Data columns (total 15 columns):\n",
            "AF3             14980 non-null float64\n",
            "F7              14980 non-null float64\n",
            "F3              14980 non-null float64\n",
            "FC5             14980 non-null float64\n",
            "T7              14980 non-null float64\n",
            "P7              14980 non-null float64\n",
            "O1              14980 non-null float64\n",
            "O2              14980 non-null float64\n",
            "P8              14980 non-null float64\n",
            "T8              14980 non-null float64\n",
            "FC6             14980 non-null float64\n",
            "F4              14980 non-null float64\n",
            "F8              14980 non-null float64\n",
            "AF4             14980 non-null float64\n",
            "eyeDetection    14980 non-null object\n",
            "dtypes: float64(14), object(1)\n",
            "memory usage: 1.8+ MB\n"
          ],
          "name": "stdout"
        }
      ]
    },
    {
      "metadata": {
        "id": "I8yukoSQgMFq",
        "colab_type": "code",
        "colab": {
          "base_uri": "https://localhost:8080/",
          "height": 51
        },
        "outputId": "2eff26b1-698c-4196-a535-e800ca729f70"
      },
      "cell_type": "code",
      "source": [
        "\n",
        "x_data = data_arr[:, 0:14]\n",
        "x_data\n",
        "\n",
        "y_data = data_arr[:, 14]\n",
        "y_data\n",
        "\n",
        "print(x_data.shape)\n",
        "\n",
        "reshaped_x_data = x_data.reshape(14980, 14, 1)\n",
        "reshaped_x_data.shape\n",
        "\n",
        "print(y_data.shape)"
      ],
      "execution_count": 10,
      "outputs": [
        {
          "output_type": "stream",
          "text": [
            "(14980, 14)\n",
            "(14980,)\n"
          ],
          "name": "stdout"
        }
      ]
    },
    {
      "metadata": {
        "id": "FQyMZKoJmPCn",
        "colab_type": "code",
        "colab": {
          "base_uri": "https://localhost:8080/",
          "height": 85
        },
        "outputId": "4445f219-d9d5-488a-e564-52e4d5dac25c"
      },
      "cell_type": "code",
      "source": [
        "\n",
        "# process the data\n",
        "\n",
        "x_train, x_test, y_train, y_test = train_test_split(\n",
        "    reshaped_x_data, y_data, test_size=0.2)\n",
        "\n",
        "\n",
        "print(x_train.shape)\n",
        "print(x_test.shape)\n",
        "print(y_train.shape)\n",
        "print(y_test.shape)"
      ],
      "execution_count": 11,
      "outputs": [
        {
          "output_type": "stream",
          "text": [
            "(11984, 14, 1)\n",
            "(2996, 14, 1)\n",
            "(11984,)\n",
            "(2996,)\n"
          ],
          "name": "stdout"
        }
      ]
    },
    {
      "metadata": {
        "id": "wcEmnOAnmS9D",
        "colab_type": "code",
        "colab": {
          "base_uri": "https://localhost:8080/",
          "height": 204
        },
        "outputId": "6d6124b9-c7a4-4a08-86d2-7dd6fda6a944"
      },
      "cell_type": "code",
      "source": [
        "\n",
        "model = Sequential()\n",
        "model.add(LSTM(1, input_shape=(14, 1)))\n",
        "model.add(Dense(1, activation='linear'))\n",
        "model.compile(loss='mean_absolute_error',\n",
        "              optimizer='adam', metrics=['accuracy'])\n",
        "model.summary()"
      ],
      "execution_count": 12,
      "outputs": [
        {
          "output_type": "stream",
          "text": [
            "_________________________________________________________________\n",
            "Layer (type)                 Output Shape              Param #   \n",
            "=================================================================\n",
            "lstm_1 (LSTM)                (None, 1)                 12        \n",
            "_________________________________________________________________\n",
            "dense_1 (Dense)              (None, 1)                 2         \n",
            "=================================================================\n",
            "Total params: 14\n",
            "Trainable params: 14\n",
            "Non-trainable params: 0\n",
            "_________________________________________________________________\n"
          ],
          "name": "stdout"
        }
      ]
    },
    {
      "metadata": {
        "id": "dR3RIR3dmaE1",
        "colab_type": "code",
        "colab": {
          "base_uri": "https://localhost:8080/",
          "height": 374
        },
        "outputId": "e674bb13-bedd-44ff-8446-df330f655188"
      },
      "cell_type": "code",
      "source": [
        "\n",
        "history = model.fit(x_train, y_train, epochs=10, shuffle=False, verbose=1)\n",
        "\n",
        "predictions = model.predict(x_test)\n",
        "predictions.shape\n",
        "\n",
        "print(history.history.get('acc')[-1])\n"
      ],
      "execution_count": 13,
      "outputs": [
        {
          "output_type": "stream",
          "text": [
            "Epoch 1/10\n",
            "11984/11984 [==============================] - 4s 336us/step - loss: 0.4532 - acc: 0.5469\n",
            "Epoch 2/10\n",
            "11984/11984 [==============================] - 3s 220us/step - loss: 0.4532 - acc: 0.5469\n",
            "Epoch 3/10\n",
            "11984/11984 [==============================] - 3s 216us/step - loss: 0.4532 - acc: 0.5469\n",
            "Epoch 4/10\n",
            "11984/11984 [==============================] - 3s 218us/step - loss: 0.4532 - acc: 0.5469\n",
            "Epoch 5/10\n",
            "11984/11984 [==============================] - 3s 220us/step - loss: 0.4532 - acc: 0.5469\n",
            "Epoch 6/10\n",
            "11984/11984 [==============================] - 3s 219us/step - loss: 0.4532 - acc: 0.5469\n",
            "Epoch 7/10\n",
            "11984/11984 [==============================] - 3s 218us/step - loss: 0.4532 - acc: 0.5469\n",
            "Epoch 8/10\n",
            "11984/11984 [==============================] - 3s 216us/step - loss: 0.4532 - acc: 0.5469\n",
            "Epoch 9/10\n",
            "11984/11984 [==============================] - 3s 218us/step - loss: 0.4532 - acc: 0.5469\n",
            "Epoch 10/10\n",
            "11984/11984 [==============================] - 3s 218us/step - loss: 0.4532 - acc: 0.5469\n",
            "0.5468958611481975\n"
          ],
          "name": "stdout"
        }
      ]
    }
  ]
}