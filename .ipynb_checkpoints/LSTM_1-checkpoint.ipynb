{
 "cells": [
  {
   "cell_type": "markdown",
   "metadata": {
    "colab_type": "raw",
    "id": "oG5nHeBGgMFa"
   },
   "source": [
    "# LSTM01 - Generate next state from previous 10 states\n",
    "\n"
   ]
  },
  {
   "cell_type": "markdown",
   "metadata": {
    "colab_type": "text",
    "id": "BfFMw9sEw6je"
   },
   "source": [
    "## Preparing data"
   ]
  },
  {
   "cell_type": "code",
   "execution_count": 1,
   "metadata": {
    "colab": {
     "base_uri": "https://localhost:8080/",
     "height": 374
    },
    "colab_type": "code",
    "id": "Rz6Py215gMFc",
    "outputId": "a399f165-0883-4848-9d6b-3b735fa8c541"
   },
   "outputs": [
    {
     "name": "stderr",
     "output_type": "stream",
     "text": [
      "Using TensorFlow backend.\n"
     ]
    },
    {
     "name": "stdout",
     "output_type": "stream",
     "text": [
      "<class 'pandas.core.frame.DataFrame'>\n",
      "RangeIndex: 14980 entries, 0 to 14979\n",
      "Data columns (total 15 columns):\n",
      "AF3             14980 non-null float64\n",
      "F7              14980 non-null float64\n",
      "F3              14980 non-null float64\n",
      "FC5             14980 non-null float64\n",
      "T7              14980 non-null float64\n",
      "P7              14980 non-null float64\n",
      "O1              14980 non-null float64\n",
      "O2              14980 non-null float64\n",
      "P8              14980 non-null float64\n",
      "T8              14980 non-null float64\n",
      "FC6             14980 non-null float64\n",
      "F4              14980 non-null float64\n",
      "F8              14980 non-null float64\n",
      "AF4             14980 non-null float64\n",
      "eyeDetection    14980 non-null object\n",
      "dtypes: float64(14), object(1)\n",
      "memory usage: 1.7+ MB\n",
      "None\n"
     ]
    }
   ],
   "source": [
    "from sklearn.model_selection import train_test_split\n",
    "import numpy as np\n",
    "from keras.layers import Dense, Embedding, LSTM\n",
    "from keras.models import Sequential\n",
    "from keras.preprocessing import sequence\n",
    "from keras.datasets import imdb\n",
    "from scipy.io import arff\n",
    "import pandas as pd\n",
    "\n",
    "# from google.colab import drive\n",
    "# drive.mount('/content/drive')\n",
    "\n",
    "from scipy.io import arff\n",
    "import pandas as pd\n",
    "\n",
    "normal_path = 'EEG_Eye_State.arff'\n",
    "drive_path = '/content/drive/My Drive/EEG_Eye_State.arff';\n",
    "## Loading the dataset\n",
    "# dataset = arff.loadarff(drive_path)\n",
    "dataset = arff.loadarff(normal_path)\n",
    "EEGData = pd.DataFrame(dataset[0])\n",
    "\n",
    "\n",
    "\n",
    "EEGData.head()\n",
    "# veryfy columns\n",
    "print(EEGData.info())\n",
    "\n",
    "\n",
    "data_arr = np.array(EEGData)\n"
   ]
  },
  {
   "cell_type": "markdown",
   "metadata": {
    "colab_type": "text",
    "id": "9uUXmFf8oSS6"
   },
   "source": [
    "## Pre-process Data ( Removing Empty Values / Normalizing / Reshaping )"
   ]
  },
  {
   "cell_type": "code",
   "execution_count": 2,
   "metadata": {
    "colab": {
     "base_uri": "https://localhost:8080/",
     "height": 51
    },
    "colab_type": "code",
    "id": "I8yukoSQgMFq",
    "outputId": "77ccc578-295e-4701-9bda-0de5184af0c0"
   },
   "outputs": [
    {
     "name": "stdout",
     "output_type": "stream",
     "text": [
      "(14970, 10, 14)\n",
      "(14970, 1)\n"
     ]
    }
   ],
   "source": [
    "# preprocesss data | remove empty values\n",
    "EEGData = EEGData.replace('[?]', np.nan, regex=True)\n",
    "EEGData = EEGData.dropna()\n",
    "\n",
    "x_data = np.array(data_arr[:, 0:14],dtype='float64')\n",
    "Data= [[(x_data[i+j])/float(len(x_data)) for i in range(10)] for j in range(len(EEGData)-10)] \n",
    "# removed array index out of bounds ln()-10 \n",
    "# and /100 for normalization\n",
    "x_data = np.array(Data)\n",
    "\n",
    "y_data =np.array(data_arr[:, 14],dtype='int')\n",
    "Target= [[ (y_data[k])/float(len(y_data)) for k in range(1)] for l in range(len(EEGData)-10)]\n",
    "# removed array index out of bounds ln()-10 \n",
    "# and /100 for normalization\n",
    "y_data =  np.array(Target)\n",
    "\n",
    "y_data = y_data[:len(x_data)]\n",
    "y_data = y_data.reshape(len(y_data),1)\n",
    "print(x_data.shape)\n",
    "print(y_data.shape)"
   ]
  },
  {
   "cell_type": "markdown",
   "metadata": {
    "colab_type": "text",
    "id": "LU1UZAqzpQhN"
   },
   "source": [
    "## Prcoessing Data (Splitting into sub-sequences)"
   ]
  },
  {
   "cell_type": "code",
   "execution_count": 3,
   "metadata": {
    "colab": {
     "base_uri": "https://localhost:8080/",
     "height": 85
    },
    "colab_type": "code",
    "id": "FQyMZKoJmPCn",
    "outputId": "55bbff22-d530-41a6-c502-8dd1fcc794c7"
   },
   "outputs": [
    {
     "name": "stdout",
     "output_type": "stream",
     "text": [
      "(11976, 10, 14)\n",
      "(2994, 10, 14)\n",
      "(11976, 1)\n",
      "(2994, 1)\n"
     ]
    }
   ],
   "source": [
    "\n",
    "# process the data\n",
    "\n",
    "x_train, x_test, y_train, y_test = train_test_split(\n",
    "    x_data, y_data, test_size=0.2)\n",
    "\n",
    "\n",
    "print(x_train.shape)\n",
    "print(x_test.shape)\n",
    "print(y_train.shape)\n",
    "print(y_test.shape)"
   ]
  },
  {
   "cell_type": "markdown",
   "metadata": {
    "colab_type": "text",
    "id": "srXWTb84pOGh"
   },
   "source": [
    "## Creating the LSTM model"
   ]
  },
  {
   "cell_type": "code",
   "execution_count": 4,
   "metadata": {
    "colab": {
     "base_uri": "https://localhost:8080/",
     "height": 204
    },
    "colab_type": "code",
    "id": "wcEmnOAnmS9D",
    "outputId": "21761121-6848-4c07-bc06-7ef149e92d6b"
   },
   "outputs": [
    {
     "name": "stdout",
     "output_type": "stream",
     "text": [
      "_________________________________________________________________\n",
      "Layer (type)                 Output Shape              Param #   \n",
      "=================================================================\n",
      "lstm_1 (LSTM)                (None, 1)                 64        \n",
      "_________________________________________________________________\n",
      "dense_1 (Dense)              (None, 1)                 2         \n",
      "=================================================================\n",
      "Total params: 66\n",
      "Trainable params: 66\n",
      "Non-trainable params: 0\n",
      "_________________________________________________________________\n"
     ]
    }
   ],
   "source": [
    "\n",
    "model = Sequential()\n",
    "model.add(LSTM(1, batch_input_shape=(None,10, 14), return_sequences=False))\n",
    "model.add(Dense(y_data.shape[1], activation='relu'))\n",
    "model.compile(loss='mean_absolute_error',\n",
    "              optimizer='adam', metrics=['accuracy'])\n",
    "model.summary()"
   ]
  },
  {
   "cell_type": "markdown",
   "metadata": {
    "colab_type": "text",
    "id": "8z5EVSMfpgqG"
   },
   "source": [
    "## Train the model\n"
   ]
  },
  {
   "cell_type": "code",
   "execution_count": 5,
   "metadata": {
    "colab": {
     "base_uri": "https://localhost:8080/",
     "height": 3434
    },
    "colab_type": "code",
    "id": "dR3RIR3dmaE1",
    "outputId": "71e576bf-9375-483c-da30-4ee7150e6a3f"
   },
   "outputs": [
    {
     "name": "stdout",
     "output_type": "stream",
     "text": [
      "Train on 11976 samples, validate on 2994 samples\n",
      "Epoch 1/10\n",
      "11976/11976 [==============================] - 3s 224us/step - loss: 0.0016 - acc: 1.0000 - val_loss: 0.0000e+00 - val_acc: 1.0000\n",
      "Epoch 2/10\n",
      "11976/11976 [==============================] - 2s 183us/step - loss: 0.0000e+00 - acc: 1.0000 - val_loss: 0.0000e+00 - val_acc: 1.0000\n",
      "Epoch 3/10\n",
      "11976/11976 [==============================] - 2s 185us/step - loss: 0.0000e+00 - acc: 1.0000 - val_loss: 0.0000e+00 - val_acc: 1.0000\n",
      "Epoch 4/10\n",
      "11976/11976 [==============================] - 2s 186us/step - loss: 0.0000e+00 - acc: 1.0000 - val_loss: 0.0000e+00 - val_acc: 1.0000\n",
      "Epoch 5/10\n",
      "11976/11976 [==============================] - 2s 205us/step - loss: 0.0000e+00 - acc: 1.0000 - val_loss: 0.0000e+00 - val_acc: 1.0000\n",
      "Epoch 6/10\n",
      "11976/11976 [==============================] - 2s 195us/step - loss: 0.0000e+00 - acc: 1.0000 - val_loss: 0.0000e+00 - val_acc: 1.0000\n",
      "Epoch 7/10\n",
      "11976/11976 [==============================] - 2s 194us/step - loss: 0.0000e+00 - acc: 1.0000 - val_loss: 0.0000e+00 - val_acc: 1.0000\n",
      "Epoch 8/10\n",
      "11976/11976 [==============================] - 2s 192us/step - loss: 0.0000e+00 - acc: 1.0000 - val_loss: 0.0000e+00 - val_acc: 1.0000\n",
      "Epoch 9/10\n",
      "11976/11976 [==============================] - 2s 196us/step - loss: 0.0000e+00 - acc: 1.0000 - val_loss: 0.0000e+00 - val_acc: 1.0000\n",
      "Epoch 10/10\n",
      "11976/11976 [==============================] - 2s 196us/step - loss: 0.0000e+00 - acc: 1.0000 - val_loss: 0.0000e+00 - val_acc: 1.0000\n"
     ]
    }
   ],
   "source": [
    "# train the model\n",
    "history = model.fit(x_train, y_train, epochs=10,validation_data=(x_test,y_test))\n"
   ]
  },
  {
   "cell_type": "markdown",
   "metadata": {
    "colab_type": "text",
    "id": "_oBCY1nPpnHM"
   },
   "source": [
    "## Predict Results"
   ]
  },
  {
   "cell_type": "code",
   "execution_count": 7,
   "metadata": {
    "colab": {
     "base_uri": "https://localhost:8080/",
     "height": 356354
    },
    "colab_type": "code",
    "id": "Wg4fGopYQQIh",
    "outputId": "7adcced9-bcec-457f-f0be-92e1d6d7ee2b"
   },
   "outputs": [
    {
     "name": "stdout",
     "output_type": "stream",
     "text": [
      "1.0\n",
      "2994/2994 [==============================] - 0s 49us/step\n",
      "(2994, 1)\n"
     ]
    }
   ],
   "source": [
    "\n",
    "print(history.history.get('acc')[-1])\n",
    "\n",
    "results = model.predict(x_test, verbose=1)\n",
    "print(results.shape)\n",
    "\n",
    "# for index, y_val in enumerate(y_test):\n",
    "  \n",
    "#   print(\"Actual: \"+ y_data+\" vs Predicted:\"+str(results[index]));\n",
    "  "
   ]
  },
  {
   "cell_type": "markdown",
   "metadata": {
    "colab_type": "text",
    "id": "iOgj0mGsxvcs"
   },
   "source": [
    "## Analyze model"
   ]
  },
  {
   "cell_type": "code",
   "execution_count": 9,
   "metadata": {
    "colab": {
     "base_uri": "https://localhost:8080/",
     "height": 1071
    },
    "colab_type": "code",
    "id": "d4CjasWcQ2sb",
    "outputId": "299fd1cf-ff72-49aa-e269-39cbe372c475"
   },
   "outputs": [
    {
     "name": "stdout",
     "output_type": "stream",
     "text": [
      "2994\n",
      "2994\n"
     ]
    },
    {
     "data": {
      "image/png": "[encoded data removed]",
      "text/plain": [
       "<matplotlib.figure.Figure at 0x7f8670305c50>"
      ]
     },
     "metadata": {},
     "output_type": "display_data"
    },
    {
     "data": {
      "image/png": "[encoded data removed]",
      "text/plain": [
       "<matplotlib.figure.Figure at 0x7f86701cff50>"
      ]
     },
     "metadata": {},
     "output_type": "display_data"
    },
    {
     "data": {
      "image/png": "[encoded data removed]",
      "text/plain": [
       "<matplotlib.figure.Figure at 0x7f86703d5190>"
      ]
     },
     "metadata": {},
     "output_type": "display_data"
    }
   ],
   "source": [
    "import matplotlib.pyplot as plt\n",
    "\n",
    "print(results.size)\n",
    "print(y_test.size)\n",
    "\n",
    "\n",
    "plt.plot(history.history['loss'])\n",
    "plt.show()\n",
    "\n",
    "acc = history.history['acc']\n",
    "val_acc = history.history['val_acc']\n",
    "loss = history.history['loss']\n",
    "val_loss = history.history['val_loss']\n",
    "\n",
    "epochs = range(1, len(acc) + 1)\n",
    "\n",
    "plt.plot(epochs, acc, 'bo', label = 'Training acc')\n",
    "plt.plot(epochs, val_acc, 'b', label = 'Validation acc')\n",
    "plt.title('Training and validation accuracy')\n",
    "plt.legend()\n",
    "\n",
    "plt.figure()\n",
    "\n",
    "plt.plot(epochs, loss, 'bo', label = 'Training loss')\n",
    "plt.plot(epochs, val_loss, 'b', label = 'Validation loss')\n",
    "plt.title('Training and validation loss')\n",
    "plt.legend()\n",
    "\n",
    "plt.show()\n",
    "\n"
   ]
  },
  {
   "cell_type": "code",
   "execution_count": null,
   "metadata": {},
   "outputs": [],
   "source": []
  },
  {
   "cell_type": "code",
   "execution_count": null,
   "metadata": {},
   "outputs": [],
   "source": []
  }
 ],
 "metadata": {
  "colab": {
   "collapsed_sections": [
    "BfFMw9sEw6je",
    "9uUXmFf8oSS6",
    "_oBCY1nPpnHM",
    "iOgj0mGsxvcs"
   ],
   "name": "LSTM-1.ipynb",
   "provenance": [],
   "version": "0.3.2"
  },
  "kernelspec": {
   "display_name": "Python 2",
   "language": "python",
   "name": "python2"
  },
  "language_info": {
   "codemirror_mode": {
    "name": "ipython",
    "version": 2
   },
   "file_extension": ".py",
   "mimetype": "text/x-python",
   "name": "python",
   "nbconvert_exporter": "python",
   "pygments_lexer": "ipython2",
   "version": "2.7.14"
  }
 },
 "nbformat": 4,
 "nbformat_minor": 1
}
