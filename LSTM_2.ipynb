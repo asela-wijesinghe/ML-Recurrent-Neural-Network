{
 "cells": [
  {
   "cell_type": "markdown",
   "metadata": {
    "colab_type": "raw",
    "id": "oG5nHeBGgMFa"
   },
   "source": [
    "## LSTM02 - Generate next state from previous 10 states\n",
    "\n"
   ]
  },
  {
   "cell_type": "markdown",
   "metadata": {
    "colab_type": "text",
    "id": "BfFMw9sEw6je"
   },
   "source": [
    "## Preparing data"
   ]
  },
  {
   "cell_type": "code",
   "execution_count": 1,
   "metadata": {
    "colab": {
     "base_uri": "https://localhost:8080/",
     "height": 374
    },
    "colab_type": "code",
    "id": "Rz6Py215gMFc",
    "outputId": "a399f165-0883-4848-9d6b-3b735fa8c541"
   },
   "outputs": [
    {
     "name": "stderr",
     "output_type": "stream",
     "text": [
      "Using TensorFlow backend.\n"
     ]
    },
    {
     "name": "stdout",
     "output_type": "stream",
     "text": [
      "<class 'pandas.core.frame.DataFrame'>\n",
      "RangeIndex: 14980 entries, 0 to 14979\n",
      "Data columns (total 15 columns):\n",
      "AF3             14980 non-null float64\n",
      "F7              14980 non-null float64\n",
      "F3              14980 non-null float64\n",
      "FC5             14980 non-null float64\n",
      "T7              14980 non-null float64\n",
      "P7              14980 non-null float64\n",
      "O1              14980 non-null float64\n",
      "O2              14980 non-null float64\n",
      "P8              14980 non-null float64\n",
      "T8              14980 non-null float64\n",
      "FC6             14980 non-null float64\n",
      "F4              14980 non-null float64\n",
      "F8              14980 non-null float64\n",
      "AF4             14980 non-null float64\n",
      "eyeDetection    14980 non-null object\n",
      "dtypes: float64(14), object(1)\n",
      "memory usage: 1.7+ MB\n",
      "None\n"
     ]
    }
   ],
   "source": [
    "from sklearn.model_selection import train_test_split\n",
    "import numpy as np\n",
    "from keras.layers import Dense, Embedding, LSTM\n",
    "from keras.models import Sequential\n",
    "from keras.preprocessing import sequence\n",
    "from keras.datasets import imdb\n",
    "from scipy.io import arff\n",
    "import pandas as pd\n",
    "\n",
    "# from google.colab import drive\n",
    "# drive.mount('/content/drive')\n",
    "\n",
    "from scipy.io import arff\n",
    "import pandas as pd\n",
    "\n",
    "normal_path = 'EEG_Eye_State.arff'\n",
    "drive_path = '/content/drive/My Drive/EEG_Eye_State.arff';\n",
    "## Loading the dataset\n",
    "# dataset = arff.loadarff(drive_path)\n",
    "dataset = arff.loadarff(normal_path)\n",
    "EEGData = pd.DataFrame(dataset[0])\n",
    "\n",
    "\n",
    "\n",
    "EEGData.head()\n",
    "# veryfy columns\n",
    "print(EEGData.info())\n",
    "\n",
    "\n",
    "data_arr = np.array(EEGData)\n"
   ]
  },
  {
   "cell_type": "markdown",
   "metadata": {
    "colab_type": "text",
    "id": "9uUXmFf8oSS6"
   },
   "source": [
    "## Pre-process Data ( Removing Empty Values / Normalizing / Reshaping )"
   ]
  },
  {
   "cell_type": "code",
   "execution_count": 2,
   "metadata": {
    "colab": {
     "base_uri": "https://localhost:8080/",
     "height": 51
    },
    "colab_type": "code",
    "id": "I8yukoSQgMFq",
    "outputId": "77ccc578-295e-4701-9bda-0de5184af0c0"
   },
   "outputs": [
    {
     "name": "stdout",
     "output_type": "stream",
     "text": [
      "(14970, 10, 14)\n",
      "(14970, 10)\n"
     ]
    }
   ],
   "source": [
    "# preprocesss data | remove empty values\n",
    "EEGData = EEGData.replace('[?]', np.nan, regex=True)\n",
    "EEGData = EEGData.dropna()\n",
    "\n",
    "x_data = np.array(data_arr[:, 0:14],dtype='float64')\n",
    "Data= [[(x_data[i+j])/float(len(x_data)) for i in range(10)] for j in range(len(EEGData)-10)] \n",
    "# removed array index out of bounds ln()-10 \n",
    "# and /100 for normalization\n",
    "x_data = np.array(Data)\n",
    "\n",
    "#need 10 values predicted so we need (_, 10) kinda output\n",
    "y_data =np.array(data_arr[:, 14],dtype='int')\n",
    "Target= [[ (y_data[k])/float(len(y_data)) for k in range(10)] for l in range(len(EEGData)-10)]\n",
    "# removed array index out of bounds ln()-10 \n",
    "# and /100 for normalization\n",
    "y_data =  np.array(Target)\n",
    "\n",
    "y_data = y_data[:len(x_data)]\n",
    "y_data = y_data.reshape(len(y_data),10)\n",
    "print(x_data.shape)\n",
    "print(y_data.shape)"
   ]
  },
  {
   "cell_type": "markdown",
   "metadata": {
    "colab_type": "text",
    "id": "LU1UZAqzpQhN"
   },
   "source": [
    "## Prcoessing Data (Splitting into sub-sequences)"
   ]
  },
  {
   "cell_type": "code",
   "execution_count": 3,
   "metadata": {
    "colab": {
     "base_uri": "https://localhost:8080/",
     "height": 85
    },
    "colab_type": "code",
    "id": "FQyMZKoJmPCn",
    "outputId": "55bbff22-d530-41a6-c502-8dd1fcc794c7"
   },
   "outputs": [
    {
     "name": "stdout",
     "output_type": "stream",
     "text": [
      "(11976, 10, 14)\n",
      "(2994, 10, 14)\n",
      "(11976, 10)\n",
      "(2994, 10)\n"
     ]
    }
   ],
   "source": [
    "\n",
    "# process the data\n",
    "\n",
    "x_train, x_test, y_train, y_test = train_test_split(\n",
    "    x_data, y_data, test_size=0.2)\n",
    "\n",
    "\n",
    "print(x_train.shape)\n",
    "print(x_test.shape)\n",
    "print(y_train.shape)\n",
    "print(y_test.shape)"
   ]
  },
  {
   "cell_type": "markdown",
   "metadata": {
    "colab_type": "text",
    "id": "srXWTb84pOGh"
   },
   "source": [
    "## Creating the LSTM model"
   ]
  },
  {
   "cell_type": "code",
   "execution_count": 6,
   "metadata": {
    "colab": {
     "base_uri": "https://localhost:8080/",
     "height": 204
    },
    "colab_type": "code",
    "id": "wcEmnOAnmS9D",
    "outputId": "21761121-6848-4c07-bc06-7ef149e92d6b",
    "scrolled": true
   },
   "outputs": [
    {
     "name": "stdout",
     "output_type": "stream",
     "text": [
      "Traceback (most recent call last):\n",
      "  File \"/usr/bin/pip\", line 9, in <module>\n",
      "    from pip import main\n",
      "ImportError: cannot import name main\n",
      "_________________________________________________________________\n",
      "Layer (type)                 Output Shape              Param #   \n",
      "=================================================================\n",
      "lstm_3 (LSTM)                (None, 10)                1000      \n",
      "_________________________________________________________________\n",
      "dense_3 (Dense)              (None, 10)                110       \n",
      "=================================================================\n",
      "Total params: 1,110\n",
      "Trainable params: 1,110\n",
      "Non-trainable params: 0\n",
      "_________________________________________________________________\n"
     ]
    },
    {
     "ename": "OSError",
     "evalue": "`pydot` failed to call GraphViz.Please install GraphViz (https://www.graphviz.org/) and ensure that its executables are in the $PATH.",
     "output_type": "error",
     "traceback": [
      "\u001b[0;31m---------------------------------------------------------------------------\u001b[0m",
      "\u001b[0;31mOSError\u001b[0m                                   Traceback (most recent call last)",
      "\u001b[0;32m<ipython-input-6-484e233f9f35>\u001b[0m in \u001b[0;36m<module>\u001b[0;34m()\u001b[0m\n\u001b[1;32m     11\u001b[0m \u001b[0;32mfrom\u001b[0m \u001b[0mkeras\u001b[0m\u001b[0;34m.\u001b[0m\u001b[0mutils\u001b[0m\u001b[0;34m.\u001b[0m\u001b[0mvis_utils\u001b[0m \u001b[0;32mimport\u001b[0m \u001b[0mmodel_to_dot\u001b[0m\u001b[0;34m\u001b[0m\u001b[0m\n\u001b[1;32m     12\u001b[0m \u001b[0;34m\u001b[0m\u001b[0m\n\u001b[0;32m---> 13\u001b[0;31m \u001b[0mSVG\u001b[0m\u001b[0;34m(\u001b[0m\u001b[0mmodel_to_dot\u001b[0m\u001b[0;34m(\u001b[0m\u001b[0mmodel\u001b[0m\u001b[0;34m)\u001b[0m\u001b[0;34m.\u001b[0m\u001b[0mcreate\u001b[0m\u001b[0;34m(\u001b[0m\u001b[0mprog\u001b[0m\u001b[0;34m=\u001b[0m\u001b[0;34m'dot'\u001b[0m\u001b[0;34m,\u001b[0m \u001b[0mformat\u001b[0m\u001b[0;34m=\u001b[0m\u001b[0;34m'svg'\u001b[0m\u001b[0;34m)\u001b[0m\u001b[0;34m)\u001b[0m\u001b[0;34m\u001b[0m\u001b[0m\n\u001b[0m",
      "\u001b[0;32m/usr/local/lib/python2.7/dist-packages/keras/utils/vis_utils.pyc\u001b[0m in \u001b[0;36mmodel_to_dot\u001b[0;34m(model, show_shapes, show_layer_names, rankdir)\u001b[0m\n\u001b[1;32m     53\u001b[0m     \u001b[0;32mfrom\u001b[0m \u001b[0;34m.\u001b[0m\u001b[0;34m.\u001b[0m\u001b[0mmodels\u001b[0m \u001b[0;32mimport\u001b[0m \u001b[0mSequential\u001b[0m\u001b[0;34m\u001b[0m\u001b[0m\n\u001b[1;32m     54\u001b[0m \u001b[0;34m\u001b[0m\u001b[0m\n\u001b[0;32m---> 55\u001b[0;31m     \u001b[0m_check_pydot\u001b[0m\u001b[0;34m(\u001b[0m\u001b[0;34m)\u001b[0m\u001b[0;34m\u001b[0m\u001b[0m\n\u001b[0m\u001b[1;32m     56\u001b[0m     \u001b[0mdot\u001b[0m \u001b[0;34m=\u001b[0m \u001b[0mpydot\u001b[0m\u001b[0;34m.\u001b[0m\u001b[0mDot\u001b[0m\u001b[0;34m(\u001b[0m\u001b[0;34m)\u001b[0m\u001b[0;34m\u001b[0m\u001b[0m\n\u001b[1;32m     57\u001b[0m     \u001b[0mdot\u001b[0m\u001b[0;34m.\u001b[0m\u001b[0mset\u001b[0m\u001b[0;34m(\u001b[0m\u001b[0;34m'rankdir'\u001b[0m\u001b[0;34m,\u001b[0m \u001b[0mrankdir\u001b[0m\u001b[0;34m)\u001b[0m\u001b[0;34m\u001b[0m\u001b[0m\n",
      "\u001b[0;32m/usr/local/lib/python2.7/dist-packages/keras/utils/vis_utils.pyc\u001b[0m in \u001b[0;36m_check_pydot\u001b[0;34m()\u001b[0m\n\u001b[1;32m     27\u001b[0m     \u001b[0;32mexcept\u001b[0m \u001b[0mOSError\u001b[0m\u001b[0;34m:\u001b[0m\u001b[0;34m\u001b[0m\u001b[0m\n\u001b[1;32m     28\u001b[0m         raise OSError(\n\u001b[0;32m---> 29\u001b[0;31m             \u001b[0;34m'`pydot` failed to call GraphViz.'\u001b[0m\u001b[0;34m\u001b[0m\u001b[0m\n\u001b[0m\u001b[1;32m     30\u001b[0m             \u001b[0;34m'Please install GraphViz (https://www.graphviz.org/) '\u001b[0m\u001b[0;34m\u001b[0m\u001b[0m\n\u001b[1;32m     31\u001b[0m             'and ensure that its executables are in the $PATH.')\n",
      "\u001b[0;31mOSError\u001b[0m: `pydot` failed to call GraphViz.Please install GraphViz (https://www.graphviz.org/) and ensure that its executables are in the $PATH."
     ]
    }
   ],
   "source": [
    "!pip instal pydot\n",
    "model = Sequential()\n",
    "model.add(LSTM(10, batch_input_shape=(None,10, 14), return_sequences=False))\n",
    "## in here the dence layer should be different since 10 next actions are needed to be predicted\n",
    "model.add(Dense(y_data.shape[1], activation='relu'))\n",
    "model.compile(loss='mean_absolute_error',\n",
    "              optimizer='adam', metrics=['accuracy'])\n",
    "model.summary()\n",
    "\n",
    "from IPython.display import SVG\n",
    "from keras.utils.vis_utils import model_to_dot\n",
    "\n",
    "SVG(model_to_dot(model).create(prog='dot', format='svg'))"
   ]
  },
  {
   "cell_type": "markdown",
   "metadata": {
    "colab_type": "text",
    "id": "8z5EVSMfpgqG"
   },
   "source": [
    "## Train the model\n"
   ]
  },
  {
   "cell_type": "code",
   "execution_count": 7,
   "metadata": {
    "colab": {
     "base_uri": "https://localhost:8080/",
     "height": 3434
    },
    "colab_type": "code",
    "id": "dR3RIR3dmaE1",
    "outputId": "71e576bf-9375-483c-da30-4ee7150e6a3f"
   },
   "outputs": [
    {
     "name": "stdout",
     "output_type": "stream",
     "text": [
      "Train on 11976 samples, validate on 2994 samples\n",
      "Epoch 1/50\n",
      "11976/11976 [==============================] - 3s 219us/step - loss: 0.0016 - acc: 0.9316 - val_loss: 1.2729e-05 - val_acc: 0.9987\n",
      "Epoch 2/50\n",
      "11976/11976 [==============================] - 2s 180us/step - loss: 2.6132e-05 - acc: 0.9990 - val_loss: 1.1030e-05 - val_acc: 0.9980\n",
      "Epoch 3/50\n",
      "11976/11976 [==============================] - 2s 179us/step - loss: 1.6383e-05 - acc: 0.9988 - val_loss: 5.2045e-06 - val_acc: 0.9990\n",
      "Epoch 4/50\n",
      "11976/11976 [==============================] - 2s 176us/step - loss: 1.5074e-05 - acc: 0.9991 - val_loss: 3.8385e-06 - val_acc: 0.9993\n",
      "Epoch 5/50\n",
      "11976/11976 [==============================] - 2s 178us/step - loss: 1.2507e-05 - acc: 0.9994 - val_loss: 2.4250e-06 - val_acc: 0.9993\n",
      "Epoch 6/50\n",
      "11976/11976 [==============================] - 2s 191us/step - loss: 9.5647e-06 - acc: 0.9996 - val_loss: 1.5962e-06 - val_acc: 0.9993\n",
      "Epoch 7/50\n",
      "11976/11976 [==============================] - 2s 194us/step - loss: 7.4778e-06 - acc: 0.9995 - val_loss: 1.9839e-06 - val_acc: 0.9997\n",
      "Epoch 8/50\n",
      "11976/11976 [==============================] - 2s 186us/step - loss: 7.0919e-06 - acc: 0.9997 - val_loss: 1.7930e-06 - val_acc: 0.9997\n",
      "Epoch 9/50\n",
      "11976/11976 [==============================] - 2s 183us/step - loss: 5.9611e-06 - acc: 0.9997 - val_loss: 9.3276e-07 - val_acc: 0.9997\n",
      "Epoch 10/50\n",
      "11976/11976 [==============================] - 2s 187us/step - loss: 4.4839e-06 - acc: 0.9996 - val_loss: 1.9970e-06 - val_acc: 0.9997\n",
      "Epoch 11/50\n",
      "11976/11976 [==============================] - 2s 185us/step - loss: 3.2695e-06 - acc: 0.9997 - val_loss: 2.1944e-06 - val_acc: 0.9997\n",
      "Epoch 12/50\n",
      "11976/11976 [==============================] - 2s 194us/step - loss: 2.4565e-06 - acc: 0.9998 - val_loss: 1.6028e-06 - val_acc: 0.9997\n",
      "Epoch 13/50\n",
      "11976/11976 [==============================] - 2s 187us/step - loss: 1.9647e-06 - acc: 0.9998 - val_loss: 1.0016e-06 - val_acc: 0.9997\n",
      "Epoch 14/50\n",
      "11976/11976 [==============================] - 2s 191us/step - loss: 1.5807e-06 - acc: 0.9999 - val_loss: 7.9474e-07 - val_acc: 0.9997\n",
      "Epoch 15/50\n",
      "11976/11976 [==============================] - 3s 221us/step - loss: 1.1926e-06 - acc: 0.9999 - val_loss: 5.7818e-07 - val_acc: 0.9997\n",
      "Epoch 16/50\n",
      "11976/11976 [==============================] - 2s 165us/step - loss: 7.6181e-07 - acc: 0.9999 - val_loss: 3.7664e-07 - val_acc: 0.9997\n",
      "Epoch 17/50\n",
      "11976/11976 [==============================] - 3s 267us/step - loss: 3.6181e-07 - acc: 0.9999 - val_loss: 3.9181e-06 - val_acc: 0.9997\n",
      "Epoch 18/50\n",
      "11976/11976 [==============================] - 4s 346us/step - loss: 0.0000e+00 - acc: 1.0000 - val_loss: 3.9181e-06 - val_acc: 0.9997\n",
      "Epoch 19/50\n",
      "11976/11976 [==============================] - 3s 231us/step - loss: 0.0000e+00 - acc: 1.0000 - val_loss: 3.9181e-06 - val_acc: 0.9997\n",
      "Epoch 20/50\n",
      "11976/11976 [==============================] - 3s 259us/step - loss: 0.0000e+00 - acc: 1.0000 - val_loss: 3.9181e-06 - val_acc: 0.9997\n",
      "Epoch 21/50\n",
      "11976/11976 [==============================] - 3s 217us/step - loss: 0.0000e+00 - acc: 1.0000 - val_loss: 3.9181e-06 - val_acc: 0.9997\n",
      "Epoch 22/50\n",
      "11976/11976 [==============================] - 3s 221us/step - loss: 0.0000e+00 - acc: 1.0000 - val_loss: 3.9181e-06 - val_acc: 0.9997\n",
      "Epoch 23/50\n",
      "11976/11976 [==============================] - 2s 185us/step - loss: 0.0000e+00 - acc: 1.0000 - val_loss: 3.9181e-06 - val_acc: 0.9997\n",
      "Epoch 24/50\n",
      "11976/11976 [==============================] - 2s 207us/step - loss: 0.0000e+00 - acc: 1.0000 - val_loss: 3.9181e-06 - val_acc: 0.9997\n",
      "Epoch 25/50\n",
      "11976/11976 [==============================] - 2s 187us/step - loss: 0.0000e+00 - acc: 1.0000 - val_loss: 3.9181e-06 - val_acc: 0.9997\n",
      "Epoch 26/50\n",
      "11976/11976 [==============================] - 2s 186us/step - loss: 0.0000e+00 - acc: 1.0000 - val_loss: 3.9181e-06 - val_acc: 0.9997\n",
      "Epoch 27/50\n",
      "11976/11976 [==============================] - 2s 184us/step - loss: 0.0000e+00 - acc: 1.0000 - val_loss: 3.9181e-06 - val_acc: 0.9997\n",
      "Epoch 28/50\n",
      "11976/11976 [==============================] - 2s 183us/step - loss: 0.0000e+00 - acc: 1.0000 - val_loss: 3.9181e-06 - val_acc: 0.9997\n",
      "Epoch 29/50\n",
      "11976/11976 [==============================] - 2s 187us/step - loss: 0.0000e+00 - acc: 1.0000 - val_loss: 3.9181e-06 - val_acc: 0.9997\n",
      "Epoch 30/50\n",
      "11976/11976 [==============================] - 2s 190us/step - loss: 0.0000e+00 - acc: 1.0000 - val_loss: 3.9181e-06 - val_acc: 0.9997\n",
      "Epoch 31/50\n",
      "11976/11976 [==============================] - 2s 192us/step - loss: 0.0000e+00 - acc: 1.0000 - val_loss: 3.9181e-06 - val_acc: 0.9997\n",
      "Epoch 32/50\n",
      "11976/11976 [==============================] - 2s 188us/step - loss: 0.0000e+00 - acc: 1.0000 - val_loss: 3.9181e-06 - val_acc: 0.9997\n",
      "Epoch 33/50\n",
      "11976/11976 [==============================] - 2s 185us/step - loss: 0.0000e+00 - acc: 1.0000 - val_loss: 3.9181e-06 - val_acc: 0.9997\n",
      "Epoch 34/50\n",
      "11976/11976 [==============================] - 2s 186us/step - loss: 0.0000e+00 - acc: 1.0000 - val_loss: 3.9181e-06 - val_acc: 0.9997\n",
      "Epoch 35/50\n",
      "11976/11976 [==============================] - 2s 189us/step - loss: 0.0000e+00 - acc: 1.0000 - val_loss: 3.9181e-06 - val_acc: 0.9997\n",
      "Epoch 36/50\n",
      "11976/11976 [==============================] - 2s 183us/step - loss: 0.0000e+00 - acc: 1.0000 - val_loss: 3.9181e-06 - val_acc: 0.9997\n",
      "Epoch 37/50\n",
      "11976/11976 [==============================] - 2s 178us/step - loss: 0.0000e+00 - acc: 1.0000 - val_loss: 3.9181e-06 - val_acc: 0.9997\n",
      "Epoch 38/50\n",
      "11976/11976 [==============================] - 2s 178us/step - loss: 0.0000e+00 - acc: 1.0000 - val_loss: 3.9181e-06 - val_acc: 0.9997\n",
      "Epoch 39/50\n",
      "11976/11976 [==============================] - 2s 179us/step - loss: 0.0000e+00 - acc: 1.0000 - val_loss: 3.9181e-06 - val_acc: 0.9997\n",
      "Epoch 40/50\n",
      "11976/11976 [==============================] - 3s 220us/step - loss: 0.0000e+00 - acc: 1.0000 - val_loss: 3.9181e-06 - val_acc: 0.9997\n",
      "Epoch 41/50\n",
      "11976/11976 [==============================] - 3s 229us/step - loss: 0.0000e+00 - acc: 1.0000 - val_loss: 3.9181e-06 - val_acc: 0.9997\n",
      "Epoch 42/50\n",
      "11976/11976 [==============================] - 3s 209us/step - loss: 0.0000e+00 - acc: 1.0000 - val_loss: 3.9181e-06 - val_acc: 0.9997\n",
      "Epoch 43/50\n",
      "11976/11976 [==============================] - 3s 281us/step - loss: 0.0000e+00 - acc: 1.0000 - val_loss: 3.9181e-06 - val_acc: 0.9997\n",
      "Epoch 44/50\n",
      "11976/11976 [==============================] - 4s 362us/step - loss: 0.0000e+00 - acc: 1.0000 - val_loss: 3.9181e-06 - val_acc: 0.9997\n",
      "Epoch 45/50\n",
      "11976/11976 [==============================] - 4s 336us/step - loss: 0.0000e+00 - acc: 1.0000 - val_loss: 3.9181e-06 - val_acc: 0.9997\n",
      "Epoch 46/50\n",
      "11976/11976 [==============================] - 4s 307us/step - loss: 0.0000e+00 - acc: 1.0000 - val_loss: 3.9181e-06 - val_acc: 0.9997\n",
      "Epoch 47/50\n",
      "11976/11976 [==============================] - 3s 218us/step - loss: 0.0000e+00 - acc: 1.0000 - val_loss: 3.9181e-06 - val_acc: 0.9997\n",
      "Epoch 48/50\n",
      "11976/11976 [==============================] - 2s 187us/step - loss: 0.0000e+00 - acc: 1.0000 - val_loss: 3.9181e-06 - val_acc: 0.9997\n",
      "Epoch 49/50\n",
      "11976/11976 [==============================] - 3s 225us/step - loss: 0.0000e+00 - acc: 1.0000 - val_loss: 3.9181e-06 - val_acc: 0.9997\n",
      "Epoch 50/50\n",
      "11976/11976 [==============================] - 3s 235us/step - loss: 0.0000e+00 - acc: 1.0000 - val_loss: 3.9181e-06 - val_acc: 0.9997\n"
     ]
    }
   ],
   "source": [
    "# train the model\n",
    "history = model.fit(x_train, y_train, epochs=50,validation_data=(x_test,y_test))\n"
   ]
  },
  {
   "cell_type": "markdown",
   "metadata": {
    "colab_type": "text",
    "id": "_oBCY1nPpnHM"
   },
   "source": [
    "## Predict Results"
   ]
  },
  {
   "cell_type": "code",
   "execution_count": 8,
   "metadata": {
    "colab": {
     "base_uri": "https://localhost:8080/",
     "height": 356354
    },
    "colab_type": "code",
    "id": "Wg4fGopYQQIh",
    "outputId": "7adcced9-bcec-457f-f0be-92e1d6d7ee2b"
   },
   "outputs": [
    {
     "name": "stdout",
     "output_type": "stream",
     "text": [
      "1.0\n",
      "2994/2994 [==============================] - 0s 75us/step\n",
      "(2994, 10)\n"
     ]
    }
   ],
   "source": [
    "\n",
    "print(history.history.get('acc')[-1])\n",
    "\n",
    "results = model.predict(x_test, verbose=1)\n",
    "print(results.shape)\n",
    "\n",
    "# for index, y_val in enumerate(y_test):\n",
    "  \n",
    "#   print(\"Actual: \"+ y_data+\" vs Predicted:\"+str(results[index]));\n",
    "  "
   ]
  },
  {
   "cell_type": "markdown",
   "metadata": {
    "colab_type": "text",
    "id": "iOgj0mGsxvcs"
   },
   "source": [
    "## Analyze model"
   ]
  },
  {
   "cell_type": "code",
   "execution_count": 10,
   "metadata": {
    "colab": {
     "base_uri": "https://localhost:8080/",
     "height": 1071
    },
    "colab_type": "code",
    "id": "d4CjasWcQ2sb",
    "outputId": "299fd1cf-ff72-49aa-e269-39cbe372c475"
   },
   "outputs": [
    {
     "name": "stdout",
     "output_type": "stream",
     "text": [
      "29940\n",
      "29940\n"
     ]
    },
    {
     "data": {
      "image/png": "[encoded data removed]",
      "text/plain": [
       "<matplotlib.figure.Figure at 0x7f0dfbf4ec10>"
      ]
     },
     "metadata": {},
     "output_type": "display_data"
    },
    {
     "data": {
      "image/png": "[encoded data removed]",
      "text/plain": [
       "<matplotlib.figure.Figure at 0x7f0dfbea6810>"
      ]
     },
     "metadata": {},
     "output_type": "display_data"
    },
    {
     "data": {
      "image/png": "[encoded data removed]",
      "text/plain": [
       "<matplotlib.figure.Figure at 0x7f0df96395d0>"
      ]
     },
     "metadata": {},
     "output_type": "display_data"
    }
   ],
   "source": [
    "import matplotlib.pyplot as plt\n",
    "\n",
    "print(results.size)\n",
    "print(y_test.size)\n",
    "\n",
    "\n",
    "plt.plot(history.history['loss'])\n",
    "plt.show()\n",
    "\n",
    "acc = history.history['acc']\n",
    "val_acc = history.history['val_acc']\n",
    "loss = history.history['loss']\n",
    "val_loss = history.history['val_loss']\n",
    "\n",
    "epochs = range(1, len(acc) + 1)\n",
    "\n",
    "plt.plot(epochs, acc, 'bo', label = 'Training acc')\n",
    "plt.plot(epochs, val_acc, 'b', label = 'Validation acc')\n",
    "plt.title('Training and validation accuracy')\n",
    "plt.legend()\n",
    "\n",
    "plt.figure()\n",
    "\n",
    "plt.plot(epochs, loss, 'bo', label = 'Training loss')\n",
    "plt.plot(epochs, val_loss, 'b', label = 'Validation loss')\n",
    "plt.title('Training and validation loss')\n",
    "plt.legend()\n",
    "\n",
    "plt.show()\n",
    "\n"
   ]
  },
  {
   "cell_type": "code",
   "execution_count": null,
   "metadata": {},
   "outputs": [],
   "source": []
  },
  {
   "cell_type": "code",
   "execution_count": null,
   "metadata": {},
   "outputs": [],
   "source": []
  },
  {
   "cell_type": "code",
   "execution_count": null,
   "metadata": {},
   "outputs": [],
   "source": []
  }
 ],
 "metadata": {
  "colab": {
   "collapsed_sections": [
    "BfFMw9sEw6je",
    "9uUXmFf8oSS6",
    "_oBCY1nPpnHM",
    "iOgj0mGsxvcs"
   ],
   "name": "LSTM-1.ipynb",
   "provenance": [],
   "version": "0.3.2"
  },
  "kernelspec": {
   "display_name": "Python 2",
   "language": "python",
   "name": "python2"
  },
  "language_info": {
   "codemirror_mode": {
    "name": "ipython",
    "version": 2
   },
   "file_extension": ".py",
   "mimetype": "text/x-python",
   "name": "python",
   "nbconvert_exporter": "python",
   "pygments_lexer": "ipython2",
   "version": "2.7.14"
  }
 },
 "nbformat": 4,
 "nbformat_minor": 1
}
